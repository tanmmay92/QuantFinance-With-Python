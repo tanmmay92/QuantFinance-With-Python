{
 "cells": [
  {
   "cell_type": "markdown",
   "metadata": {},
   "source": [
    "# Foundations of Finance\n",
    "\n",
    "## Homework 1 Solutions"
   ]
  },
  {
   "cell_type": "markdown",
   "metadata": {},
   "source": [
    "These Notebooks embed text and code in the same document. All cells can be evaluated by pressing shift+enter.\n",
    "\n",
    "We will start by importing some packages that will aid us with our problems. We will be importing numpy along with some packages from math and scipy library."
   ]
  },
  {
   "cell_type": "code",
   "execution_count": 1,
   "metadata": {
    "collapsed": true
   },
   "outputs": [],
   "source": [
    "# Comments within blocks of code start with a # sign and continue until the end of the line\n",
    "import numpy as np\n",
    "from math import log, sqrt, exp\n",
    "from scipy import stats\n",
    "from IPython.display import Image\n",
    "from IPython.core.display import HTML \n",
    "import pandas_datareader as pd_dr\n",
    "import pandas as pd"
   ]
  },
  {
   "cell_type": "markdown",
   "metadata": {},
   "source": [
    "### Topic 1: Financial Markets"
   ]
  },
  {
   "cell_type": "markdown",
   "metadata": {},
   "source": [
    "#### 1. You are among the OTC marketmakers in the stock of BioEngineering, Inc. and quote a bid of 102.25 and an ask of 102.50. Suppose that you have a zero inventory.\n",
    "\n",
    "##### (a) On Day 1 you receive market buy orders for 10,000 shares and market sell orders for 4,000 shares. How much do you earn on the 4,000 shares that you bought and sold? What is the value of your inventory at the end of the day? \n",
    "(Hints: It is possible\n",
    "to have negative inventory. Further, there is more than one correct way to value an\n",
    "inventory, but please state what assumption your valuation is based on.)\n",
    "\n",
    "You have sold 10,000 shares at the ask price of 102.50. You bought 4,000 shares at\n",
    "a bid price 102.25. Thus, 6,000 shares are sold short (sold without already owning\n",
    "the security). Your revenue from the 4,000 \"round trip\" purchase and sale produces a\n",
    "profit equal to the bid minus the ask times the volume done. Hence, the profit on the\n",
    "round trip trades is 0.25 x 4,000 = 1,000.\n",
    "The value of your inventory is equal to the value of your short position of 6,000 shares.\n",
    "Since there is both a bid and an ask price, this question can answered is various ways\n",
    "depending on what you assume:\n",
    "The \"conservative\" valuation is to value your position at the ask price of 102.50. Then,\n",
    "you have a position of -615,000. This conservative valuation is useful because, if you\n",
    "cover your short position by buying from another dealer at his ask price of 102.50,\n",
    "you would have to pay 615,000. (Also, in this example it is the price for which you\n",
    "sold the securities.)\n",
    "The \"aggressive\" valuation is to value your position at the bid price of 102.25. Then,\n",
    "you have a position of -613,500 (i.e. less negative than above). This value is implicitly\n",
    "based on an expectation that some investors will come to you and sell you 6000 shares\n",
    "at your current bid price.\n",
    "Often, real-world market makers will value their inventory at the mid price, in this\n",
    "case 102.375. Then, you have a position of -614,250.\n",
    "\n",
    "\n",
    "##### (b) Before trading begins on Day 2 the company announces trial testing of a cure for acne in mice. The quoted bid and ask jump to 110.25 and 110.50, respectively.\n",
    "\n",
    "During Day 2 you receive market sell orders for 8,000 shares and buy orders for 2,000\n",
    "shares. What is your total profit or loss over the two-day period? What is the value\n",
    "of your inventory at the end of Day 2?\n",
    "You have bought 8,000 shares during Day 2 at 110.25 and sold 2,000 shares at 110.50.\n",
    "On the 2,000 you bought and sold during the day you earn 2,000 x 0.25 = 500. You\n",
    "also added 6,000 shares to your inventory at a price of 110.25. Since you were short\n",
    "6,000 shares at 102.50 from yesterday's trading, your loss on these 6,000 shares is -7.75 x 6,000 = -46; 500. Thus your total profit/loss over the two-day period is:\n",
    "\n",
    "                               1,000+500-46; 500 = -45; 000.\n",
    "\n",
    "Your inventory at the end of Day 2 is zero since\n",
    "you purchased 6,000 shares that offset the 6,000 share short position at the end of Day\n",
    "1.\n",
    "\n",
    "##### (c) What is a market maker's objective? Is there anything you could have done during Day 1, consistent with a market maker's objective, that would have improved your performance over the two-day period?\n",
    "\n",
    "A marketmaker's objective is to earn the bid-ask spread, and not (necessarily) to\n",
    "speculate on equilibrium price movements. The 6,000 share short position at the end\n",
    "of Day 1 left you vulnerable to a jump in quoted prices. Perhaps you should have\n",
    "increased the prices during Day 1 as you observed more buying than selling. Also,\n",
    "you could have reduced your short inventory position by buying from other dealers at\n",
    "102.50 as the market closed on Day 1. There are two factors that may have prevented\n",
    "you from doing this: (1) Your expected profit of .25 on the 6,000 shares if market\n",
    "prices remained unchanged at 102.25 (bid) and 102.50 (ask). (2) Unwillingness of\n",
    "other dealers to accommodate your purchase of 6,000 shares at the 102.50 ask price."
   ]
  },
  {
   "cell_type": "markdown",
   "metadata": {},
   "source": [
    "### Topic 2: Performance Measures"
   ]
  },
  {
   "cell_type": "markdown",
   "metadata": {},
   "source": [
    "#### 2. Suppose a 5-year zero-coupon Treasury bond with face value $1000 has a 5% yield (annually compounded).\n",
    "##### (a) What price does this bond sell for?"
   ]
  },
  {
   "cell_type": "markdown",
   "metadata": {},
   "source": [
    "Let's assign values to the parameters of Time value of money."
   ]
  },
  {
   "cell_type": "code",
   "execution_count": 23,
   "metadata": {
    "collapsed": true
   },
   "outputs": [],
   "source": [
    "fv = 1000                  #Face Value\n",
    "r = 0.05                   #Rate of interest\n",
    "t = 5                      #Time Period"
   ]
  },
  {
   "cell_type": "code",
   "execution_count": 24,
   "metadata": {
    "collapsed": true
   },
   "outputs": [],
   "source": [
    "pv = fv/(1+r)**t           #Formula for calculating the Present Value"
   ]
  },
  {
   "cell_type": "code",
   "execution_count": 25,
   "metadata": {
    "collapsed": false
   },
   "outputs": [
    {
     "data": {
      "text/plain": [
       "783.5261664684588"
      ]
     },
     "execution_count": 25,
     "metadata": {},
     "output_type": "execute_result"
    }
   ],
   "source": [
    "pv                         #Calling out the value to print the final result."
   ]
  },
  {
   "cell_type": "markdown",
   "metadata": {},
   "source": [
    "We can solve the above problem with a single line of code using scipy package"
   ]
  },
  {
   "cell_type": "code",
   "execution_count": 26,
   "metadata": {
    "collapsed": false
   },
   "outputs": [
    {
     "data": {
      "text/plain": [
       "-783.52616646845877"
      ]
     },
     "execution_count": 26,
     "metadata": {},
     "output_type": "execute_result"
    }
   ],
   "source": [
    "#numpy.pv(rate, nper, pmt, fv=0.0, when='end')\n",
    "\n",
    "# a future value, fv\n",
    "# an interest rate compounded once per period, of which there are\n",
    "# nper total\n",
    "# a (fixed) payment, pmt, paid either\n",
    "# at the beginning (when = {‘begin’, 1}) or the end (when = {‘end’, 0}) of each period\n",
    "\n",
    "\n",
    "np.pv(0.05,5,0,1000)"
   ]
  },
  {
   "cell_type": "markdown",
   "metadata": {},
   "source": [
    "In financial terms, a negative sign before a cash flow indicates an outgoing cash flow and a positive or no sign indicates an incoming cash flow."
   ]
  },
  {
   "cell_type": "markdown",
   "metadata": {},
   "source": [
    "\n",
    "\n",
    "##### (b) Suppose another zero-coupon Treasury bond also has a 5% yield, but sells for $325.57. What is the maturity of this bond?"
   ]
  },
  {
   "cell_type": "code",
   "execution_count": 27,
   "metadata": {
    "collapsed": true
   },
   "outputs": [],
   "source": [
    "fv = 1000                  #Face Value\n",
    "r = 0.05                   #Rate of interest\n",
    "pv = 325.57                #Present Value"
   ]
  },
  {
   "cell_type": "code",
   "execution_count": 28,
   "metadata": {
    "collapsed": true
   },
   "outputs": [],
   "source": [
    "t = log(fv/pv)/log(1+r)"
   ]
  },
  {
   "cell_type": "code",
   "execution_count": 29,
   "metadata": {
    "collapsed": false
   },
   "outputs": [
    {
     "data": {
      "text/plain": [
       "23.000082204967935"
      ]
     },
     "execution_count": 29,
     "metadata": {},
     "output_type": "execute_result"
    }
   ],
   "source": [
    "t"
   ]
  },
  {
   "cell_type": "markdown",
   "metadata": {},
   "source": [
    "Using scipy:"
   ]
  },
  {
   "cell_type": "code",
   "execution_count": 30,
   "metadata": {
    "collapsed": false
   },
   "outputs": [
    {
     "name": "stderr",
     "output_type": "stream",
     "text": [
      "C:\\Users\\tmahendru\\Anaconda3\\lib\\site-packages\\numpy\\lib\\financial.py:281: RuntimeWarning: divide by zero encountered in double_scalars\n",
      "  A = -(fv + pv)/(pmt+0.0)\n"
     ]
    },
    {
     "data": {
      "text/plain": [
       "23.000082204967935"
      ]
     },
     "execution_count": 30,
     "metadata": {},
     "output_type": "execute_result"
    }
   ],
   "source": [
    "#numpy.nper(rate, pmt, pv, fv=0, when='end')\n",
    "\n",
    "np.nper(0.05,0,-325.57,1000)"
   ]
  },
  {
   "cell_type": "markdown",
   "metadata": {},
   "source": [
    "#### 3. Which of the following investments do you prefer?\n",
    "\n",
    "##### (a) Purchase a zero-coupon bond, which pays 1000 in ten years, for a price of $550.\n",
    "\n",
    "##### (b) Invest $550 for ten years in Chase at a guaranteed annual interest rate of 5.5%."
   ]
  },
  {
   "cell_type": "markdown",
   "metadata": {
    "collapsed": true
   },
   "source": [
    "Solution:\n",
    "You can go about this in two ways :\n",
    "\n",
    "1. We can calculate the return from the bond and compare that with the interest guaranteed from Chase. Whichever gives us higher returns will be preferred.\n",
    "Or\n",
    "\n",
    "2. We can calculate the future value of our investment in Chase and compare that with the face value of our bond."
   ]
  },
  {
   "cell_type": "code",
   "execution_count": 31,
   "metadata": {
    "collapsed": true
   },
   "outputs": [],
   "source": [
    "fv = 1000\n",
    "t = 10\n",
    "pv = 550"
   ]
  },
  {
   "cell_type": "code",
   "execution_count": 32,
   "metadata": {
    "collapsed": true
   },
   "outputs": [],
   "source": [
    "r = (fv/pv)**(1/t)-1"
   ]
  },
  {
   "cell_type": "code",
   "execution_count": 33,
   "metadata": {
    "collapsed": false
   },
   "outputs": [
    {
     "data": {
      "text/plain": [
       "0.06160689621814597"
      ]
     },
     "execution_count": 33,
     "metadata": {},
     "output_type": "execute_result"
    }
   ],
   "source": [
    "r"
   ]
  },
  {
   "cell_type": "markdown",
   "metadata": {},
   "source": [
    "The annual return on the bond is 0.0616 or 6.16% which is greater than 5.5% yielded by investing in Chase. Therefore, the bond is a better investment."
   ]
  },
  {
   "cell_type": "code",
   "execution_count": 34,
   "metadata": {
    "collapsed": true
   },
   "outputs": [],
   "source": [
    "r = 0.055\n",
    "pv = 550\n",
    "t = 10"
   ]
  },
  {
   "cell_type": "code",
   "execution_count": 35,
   "metadata": {
    "collapsed": true
   },
   "outputs": [],
   "source": [
    "fv = pv*(1+r)**t                 #The variable after '**' signifies the exponent"
   ]
  },
  {
   "cell_type": "code",
   "execution_count": 36,
   "metadata": {
    "collapsed": false
   },
   "outputs": [
    {
     "data": {
      "text/plain": [
       "939.4794520944758"
      ]
     },
     "execution_count": 36,
     "metadata": {},
     "output_type": "execute_result"
    }
   ],
   "source": [
    "fv"
   ]
  },
  {
   "cell_type": "markdown",
   "metadata": {},
   "source": [
    "the Chase deposit after 10 years will have grown to $939.48 which is lower than the face value of the bond\n",
    "\n",
    "Using Scipy:"
   ]
  },
  {
   "cell_type": "code",
   "execution_count": 37,
   "metadata": {
    "collapsed": false
   },
   "outputs": [
    {
     "data": {
      "text/plain": [
       "0.061606896218165071"
      ]
     },
     "execution_count": 37,
     "metadata": {},
     "output_type": "execute_result"
    }
   ],
   "source": [
    "#numpy.rate(nper, pmt, pv, fv, when='end', guess=0.1, tol=1e-06, maxiter=100)[source]\n",
    "\n",
    "np.rate(10,0,-550,1000)"
   ]
  },
  {
   "cell_type": "code",
   "execution_count": 38,
   "metadata": {
    "collapsed": false
   },
   "outputs": [
    {
     "data": {
      "text/plain": [
       "939.47945209447585"
      ]
     },
     "execution_count": 38,
     "metadata": {},
     "output_type": "execute_result"
    }
   ],
   "source": [
    "np.fv(0.055,10,0,-550)"
   ]
  },
  {
   "cell_type": "markdown",
   "metadata": {},
   "source": [
    "** 4. Suppose you get for free one of following two securities: **\n",
    "\n",
    "##### (a) an annuity that pays 10000 at the end of each of the next 6 years; or \n",
    "##### (b) a perpetuity that pays 10,000 forever, but it does not begin until 10 years from now (the first cash payment from this security is 11 years from today). \n",
    "\n",
    "#### Which security would you choose if the annual interest rate is 5%? Does your answer change if the intere3st rate is 10%? Explain why or why not."
   ]
  },
  {
   "cell_type": "markdown",
   "metadata": {},
   "source": [
    "To determine whether it is better to get for free (a) or (b), we must calculate which\n",
    "security has the higher present value.\n",
    "\n",
    "It is always helpful to show a time line of the cash \n",
    "ows (to simplify the picture we\n",
    "omit the 000s in 10,000)."
   ]
  },
  {
   "cell_type": "code",
   "execution_count": 39,
   "metadata": {
    "collapsed": false
   },
   "outputs": [
    {
     "data": {
      "text/html": [
       "<img src=\"https://raw.githubusercontent.com/tanmmay92/Finance-TF-Work/master/Timeline.PNG\" width=\"500\" height=\"500\"/>"
      ],
      "text/plain": [
       "<IPython.core.display.Image object>"
      ]
     },
     "execution_count": 39,
     "metadata": {},
     "output_type": "execute_result"
    }
   ],
   "source": [
    "path = \"https://raw.githubusercontent.com/tanmmay92/Finance-TF-Work/master/Timeline.PNG\"\n",
    "Image(url = path, width=500, height=500)"
   ]
  },
  {
   "cell_type": "markdown",
   "metadata": {},
   "source": [
    "Cash flow (a) is a straightforward annuity whose present value can be calculated as follows: "
   ]
  },
  {
   "cell_type": "code",
   "execution_count": 40,
   "metadata": {
    "collapsed": true
   },
   "outputs": [],
   "source": [
    "C = 10000\n",
    "r=0.05\n",
    "t = 6"
   ]
  },
  {
   "cell_type": "code",
   "execution_count": 41,
   "metadata": {
    "collapsed": true
   },
   "outputs": [],
   "source": [
    "pv = C*((1/r)-1/(r*(1+r)**t))"
   ]
  },
  {
   "cell_type": "code",
   "execution_count": 42,
   "metadata": {
    "collapsed": false
   },
   "outputs": [
    {
     "data": {
      "text/plain": [
       "50756.92067267454"
      ]
     },
     "execution_count": 42,
     "metadata": {},
     "output_type": "execute_result"
    }
   ],
   "source": [
    "pv"
   ]
  },
  {
   "cell_type": "markdown",
   "metadata": {},
   "source": [
    "Cash Flow (b) is a perpetuity that begins 10 years from now. We can value it in two\n",
    "parts. First, we know that a perpetuity has a value, P, given by: P = C/r"
   ]
  },
  {
   "cell_type": "code",
   "execution_count": 43,
   "metadata": {
    "collapsed": true
   },
   "outputs": [],
   "source": [
    "C=10000\n",
    "r=0.05"
   ]
  },
  {
   "cell_type": "code",
   "execution_count": 44,
   "metadata": {
    "collapsed": true
   },
   "outputs": [],
   "source": [
    "P=C/r"
   ]
  },
  {
   "cell_type": "code",
   "execution_count": 45,
   "metadata": {
    "collapsed": false
   },
   "outputs": [
    {
     "data": {
      "text/plain": [
       "200000.0"
      ]
     },
     "execution_count": 45,
     "metadata": {},
     "output_type": "execute_result"
    }
   ],
   "source": [
    "P"
   ]
  },
  {
   "cell_type": "markdown",
   "metadata": {},
   "source": [
    "Thus, with C = 10000 and r = 0.05 the perpetuity is worth 200,000. But it is worth\n",
    "200,000 ten years from now, not today. We can get the present value of 200,000\n",
    "received with a 10 year delay by treating that sum as though it were a zero coupon\n",
    "bond with a face value of 200,000 payable in 10 years. Hence,"
   ]
  },
  {
   "cell_type": "code",
   "execution_count": 46,
   "metadata": {
    "collapsed": true
   },
   "outputs": [],
   "source": [
    "fv = 200000\n",
    "r = 0.05\n",
    "t = 10"
   ]
  },
  {
   "cell_type": "code",
   "execution_count": 47,
   "metadata": {
    "collapsed": true
   },
   "outputs": [],
   "source": [
    "pv = fv/(1+r)**t"
   ]
  },
  {
   "cell_type": "code",
   "execution_count": 48,
   "metadata": {
    "collapsed": false
   },
   "outputs": [
    {
     "data": {
      "text/plain": [
       "122782.65070815184"
      ]
     },
     "execution_count": 48,
     "metadata": {},
     "output_type": "execute_result"
    }
   ],
   "source": [
    "pv"
   ]
  },
  {
   "cell_type": "markdown",
   "metadata": {},
   "source": [
    "We find that the present value of the\n",
    "perpetuity beginning 10 years from now is 122,782. Hence, we prefer the perpetuity\n",
    "because its present value of 122,782 is larger than the 50,757 present value of the\n",
    "annuity in (a)."
   ]
  },
  {
   "cell_type": "markdown",
   "metadata": {},
   "source": [
    "Similarly, when rate = 10%, calculating for both:"
   ]
  },
  {
   "cell_type": "code",
   "execution_count": 49,
   "metadata": {
    "collapsed": true
   },
   "outputs": [],
   "source": [
    "C = 10000\n",
    "r=0.1\n",
    "t = 6"
   ]
  },
  {
   "cell_type": "code",
   "execution_count": 50,
   "metadata": {
    "collapsed": true
   },
   "outputs": [],
   "source": [
    "pv = C*((1/r)-1/(r*(1+r)**t))            #For Annuity"
   ]
  },
  {
   "cell_type": "code",
   "execution_count": 51,
   "metadata": {
    "collapsed": false
   },
   "outputs": [
    {
     "data": {
      "text/plain": [
       "43552.60699462229"
      ]
     },
     "execution_count": 51,
     "metadata": {},
     "output_type": "execute_result"
    }
   ],
   "source": [
    "pv                                       #For Annuity"
   ]
  },
  {
   "cell_type": "code",
   "execution_count": 52,
   "metadata": {
    "collapsed": true
   },
   "outputs": [],
   "source": [
    "pv = C/r                                 #Present Value For Perpetuity 10 years from now"
   ]
  },
  {
   "cell_type": "code",
   "execution_count": 53,
   "metadata": {
    "collapsed": false
   },
   "outputs": [
    {
     "data": {
      "text/plain": [
       "100000.0"
      ]
     },
     "execution_count": 53,
     "metadata": {},
     "output_type": "execute_result"
    }
   ],
   "source": [
    "pv                                       #Present Value For Perpetuity 10 years from now"
   ]
  },
  {
   "cell_type": "markdown",
   "metadata": {},
   "source": [
    "Similarly, We can get the present value of 100,000 received with a 10 year delay by treating that sum as though it were a zero coupon\n",
    "bond with a face value of $100,000 payable in 10 years."
   ]
  },
  {
   "cell_type": "code",
   "execution_count": 54,
   "metadata": {
    "collapsed": true
   },
   "outputs": [],
   "source": [
    "fv = 100000\n",
    "r = 0.1\n",
    "t = 10"
   ]
  },
  {
   "cell_type": "code",
   "execution_count": 55,
   "metadata": {
    "collapsed": true
   },
   "outputs": [],
   "source": [
    "pv = fv/(1+r)**t                         #Present Value For Perpetuity at Day 0"
   ]
  },
  {
   "cell_type": "code",
   "execution_count": 56,
   "metadata": {
    "collapsed": false
   },
   "outputs": [
    {
     "data": {
      "text/plain": [
       "38554.32894295314"
      ]
     },
     "execution_count": 56,
     "metadata": {},
     "output_type": "execute_result"
    }
   ],
   "source": [
    "pv                                       #Present Value For Perpetuity at Day 0"
   ]
  },
  {
   "cell_type": "markdown",
   "metadata": {},
   "source": [
    "Thus at 10% we prefer the annuity in (a), with a present value of 43,552, to the\n",
    "perpetuity, which is worth only $38,554.\n",
    "This result stems from the fact that even though the perpetuity has infinite cash flows\n",
    "compared with the annuity, those cash flows begin with a 10- year delay. At a 10%\n",
    "interest rate the delayed cash \n",
    "flows are penalized very heavily.\n",
    "\n",
    "\n",
    "\n",
    "\n"
   ]
  },
  {
   "cell_type": "markdown",
   "metadata": {},
   "source": [
    "** 5. Suppose a hedge fund manager earns 1% per trading day. There are 250 trading days\n",
    "per year. Answer the following questions: **\n",
    "\n",
    "\n",
    "** (a) What will be your annual return on $100 invested in her fund if she allows you to\n",
    "reinvest in her fund the 1% you earn each day? **"
   ]
  },
  {
   "cell_type": "markdown",
   "metadata": {
    "collapsed": true
   },
   "source": [
    "Allowing you to reinvest at 1% per day means that you are earning compound interest\n",
    "on your initial $100 investment. The formula for P growing to F for one year at a\n",
    "compound rate r per annum is:\n",
    "                             F = P(1+r/n)^n\n",
    "\n",
    "where n is the number of compounding periods per year and hence r/n is the rate per\n",
    "compounding period. We are given r/n = 1% per day and are asked to calculate the\n",
    "annual yield. This is equivalent to asking for the effective annual rate.\n"
   ]
  },
  {
   "cell_type": "code",
   "execution_count": 57,
   "metadata": {
    "collapsed": true
   },
   "outputs": [],
   "source": [
    "r=.01\n",
    "t = 250\n",
    "pv=100"
   ]
  },
  {
   "cell_type": "code",
   "execution_count": 58,
   "metadata": {
    "collapsed": true
   },
   "outputs": [],
   "source": [
    "F = pv*(1+r)**t"
   ]
  },
  {
   "cell_type": "code",
   "execution_count": 59,
   "metadata": {
    "collapsed": false
   },
   "outputs": [
    {
     "data": {
      "text/plain": [
       "1203.2155768297464"
      ]
     },
     "execution_count": 59,
     "metadata": {},
     "output_type": "execute_result"
    }
   ],
   "source": [
    "F"
   ]
  },
  {
   "cell_type": "markdown",
   "metadata": {},
   "source": [
    "#### (b) What will be your annual return assuming she puts all of your daily earnings into a zero-interest- bearing checking account and pays you everything earned at the end of the year?"
   ]
  },
  {
   "cell_type": "markdown",
   "metadata": {},
   "source": [
    "If the hedge fund manager insists on putting your daily 1% earnings into a zero-interest\n",
    "bearing checking account, then you will earn only the daily rate (1%) multiplied by\n",
    "the number of days, or, 1% * 250 = 250%\n",
    "\n",
    "Notice that this is equivalent to the annual percentage rate (APR) calculation:\n",
    "APR = periodic rate x n = 1% x 250\n",
    "\n",
    "The value at the end of the year includes interest earnings plus original investment,\n",
    "that is, 100+250=350."
   ]
  },
  {
   "cell_type": "markdown",
   "metadata": {},
   "source": [
    "#### (c) Can you summarize when it is proper to \"annualize\" using APR (annual percentage rate) versus EAR (e\u000b",
    "ective annual rate)?\n",
    "\n",
    "Whether you use APR or EAR to annualize a periodic rate depends upon the process\n",
    "for reinvesting the proceeds of your investment. If you can reinvest at the periodic\n",
    "rate (as in (a)) then EAR is appropriate. If the reinvestment rate is zero (as in (b))\n",
    "then APR is appropriate. Since the reinvestment rate is rarely zero, the APR usually\n",
    "understates the annual rate."
   ]
  },
  {
   "cell_type": "markdown",
   "metadata": {},
   "source": [
    "#### 6. Here are some alternative investments you are considering for one year. (i) Bank A promises to pay 8% on your deposit compounded annually. (ii) Bank B promises to pay 8% on your deposit compounded daily. Compare the effective annual rate (EAR) on these investments.\n",
    "(i) EAR = .08\n"
   ]
  },
  {
   "cell_type": "code",
   "execution_count": 66,
   "metadata": {
    "collapsed": true
   },
   "outputs": [],
   "source": [
    "r=.08\n",
    "n=365      #compounded daily\n"
   ]
  },
  {
   "cell_type": "code",
   "execution_count": 67,
   "metadata": {
    "collapsed": true
   },
   "outputs": [],
   "source": [
    "EAR = ((1+r/n)**n)-1"
   ]
  },
  {
   "cell_type": "code",
   "execution_count": 68,
   "metadata": {
    "collapsed": false
   },
   "outputs": [
    {
     "data": {
      "text/plain": [
       "0.08327757179283468"
      ]
     },
     "execution_count": 68,
     "metadata": {},
     "output_type": "execute_result"
    }
   ],
   "source": [
    "EAR"
   ]
  },
  {
   "cell_type": "markdown",
   "metadata": {},
   "source": [
    "In general, the greater the compounding frequency, the higher the EAR. This is because\n",
    "with more frequent compounding, you earn more interest on interest."
   ]
  },
  {
   "cell_type": "markdown",
   "metadata": {},
   "source": [
    "#### 7. (a) Suppose that you have purchased a 3-year zero-coupon bond with face value of 1000 and a price of 850. If you hold the bond to maturity, what is your annual rate of return?"
   ]
  },
  {
   "cell_type": "code",
   "execution_count": 60,
   "metadata": {
    "collapsed": true
   },
   "outputs": [],
   "source": [
    "pv = 850\n",
    "fv = 1000\n",
    "t = 3"
   ]
  },
  {
   "cell_type": "code",
   "execution_count": 61,
   "metadata": {
    "collapsed": true
   },
   "outputs": [],
   "source": [
    "r = (fv/pv)**(1/t)-1"
   ]
  },
  {
   "cell_type": "code",
   "execution_count": 62,
   "metadata": {
    "collapsed": false
   },
   "outputs": [
    {
     "data": {
      "text/plain": [
       "0.05566719197800074"
      ]
     },
     "execution_count": 62,
     "metadata": {},
     "output_type": "execute_result"
    }
   ],
   "source": [
    "r"
   ]
  },
  {
   "cell_type": "code",
   "execution_count": 63,
   "metadata": {
    "collapsed": false
   },
   "outputs": [
    {
     "data": {
      "text/plain": [
       "0.055667191978000838"
      ]
     },
     "execution_count": 63,
     "metadata": {},
     "output_type": "execute_result"
    }
   ],
   "source": [
    "np.rate(3,0,-850,1000)        #Using Scipy"
   ]
  },
  {
   "cell_type": "markdown",
   "metadata": {},
   "source": [
    "#### (b) Now suppose you have purchased a 3-year bond with face value of 1000, a 7% annual coupon, and a price of 975. Assuming that you hold the bond to maturity, is the IRR greater or less than the return on the bond in part (a)?"
   ]
  },
  {
   "cell_type": "markdown",
   "metadata": {},
   "source": [
    "Recall that the IRR is defined as the interest rate that makes the present value of the\n",
    "payments equal to the price. Hence, the IRR (annual compounding) solves : \n",
    "\n",
    "                           975 = 70/(1 + IRR) + 70/(1 + IRR)^2 + 1070/(1 + IRR)^3 "
   ]
  },
  {
   "cell_type": "code",
   "execution_count": 64,
   "metadata": {
    "collapsed": false
   },
   "outputs": [
    {
     "data": {
      "text/plain": [
       "0.085"
      ]
     },
     "execution_count": 64,
     "metadata": {},
     "output_type": "execute_result"
    }
   ],
   "source": [
    "round(np.irr([-975, 70, 70, 1070, 20]), 3)        #Using Scipy"
   ]
  },
  {
   "cell_type": "markdown",
   "metadata": {},
   "source": [
    "Another way to go about it is to insert the IRR value calculated in (a), to find out pv, and compare those values."
   ]
  },
  {
   "cell_type": "markdown",
   "metadata": {},
   "source": [
    "#### 8. Download the monthly S&P 500 prices from January 1950 until today http://finance.yahoo.com/ (click Market Data, click S&P 500, click Historical Prices, click Monthly, click Get Prices, click Download to Spreadsheet at the bottom of the page).\n",
    "\n",
    "#### (a) What is your best estimate for next month’s return?"
   ]
  },
  {
   "cell_type": "code",
   "execution_count": 2,
   "metadata": {
    "collapsed": true
   },
   "outputs": [],
   "source": [
    "path = 'C:\\\\Users\\\\Aditya\\\\Downloads\\\\' #Add path to file\n",
    "file = '^GSPC.csv' #Add file name\n",
    "pd.df = pd.read_csv(path + file) #Load csv in data frame\n",
    "dff = pd.df.set_index(['Date']) # Set index on date"
   ]
  },
  {
   "cell_type": "code",
   "execution_count": 3,
   "metadata": {
    "collapsed": false
   },
   "outputs": [
    {
     "data": {
      "text/html": [
       "<div>\n",
       "<table border=\"1\" class=\"dataframe\">\n",
       "  <thead>\n",
       "    <tr style=\"text-align: right;\">\n",
       "      <th></th>\n",
       "      <th>Open</th>\n",
       "      <th>High</th>\n",
       "      <th>Low</th>\n",
       "      <th>Close</th>\n",
       "      <th>Adj Close</th>\n",
       "      <th>Volume</th>\n",
       "    </tr>\n",
       "    <tr>\n",
       "      <th>Date</th>\n",
       "      <th></th>\n",
       "      <th></th>\n",
       "      <th></th>\n",
       "      <th></th>\n",
       "      <th></th>\n",
       "      <th></th>\n",
       "    </tr>\n",
       "  </thead>\n",
       "  <tbody>\n",
       "    <tr>\n",
       "      <th>1/1/1950</th>\n",
       "      <td>16.660000</td>\n",
       "      <td>17.090000</td>\n",
       "      <td>16.650000</td>\n",
       "      <td>17.049999</td>\n",
       "      <td>17.049999</td>\n",
       "      <td>4.257000e+07</td>\n",
       "    </tr>\n",
       "    <tr>\n",
       "      <th>2/1/1950</th>\n",
       "      <td>17.049999</td>\n",
       "      <td>17.350000</td>\n",
       "      <td>16.990000</td>\n",
       "      <td>17.219999</td>\n",
       "      <td>17.219999</td>\n",
       "      <td>3.343000e+07</td>\n",
       "    </tr>\n",
       "    <tr>\n",
       "      <th>3/1/1950</th>\n",
       "      <td>17.240000</td>\n",
       "      <td>17.610001</td>\n",
       "      <td>17.070000</td>\n",
       "      <td>17.290001</td>\n",
       "      <td>17.290001</td>\n",
       "      <td>4.041000e+07</td>\n",
       "    </tr>\n",
       "    <tr>\n",
       "      <th>4/1/1950</th>\n",
       "      <td>17.340000</td>\n",
       "      <td>18.070000</td>\n",
       "      <td>17.340000</td>\n",
       "      <td>18.070000</td>\n",
       "      <td>18.070000</td>\n",
       "      <td>4.825000e+07</td>\n",
       "    </tr>\n",
       "    <tr>\n",
       "      <th>5/1/1950</th>\n",
       "      <td>18.219999</td>\n",
       "      <td>18.780001</td>\n",
       "      <td>18.110001</td>\n",
       "      <td>18.780001</td>\n",
       "      <td>18.780001</td>\n",
       "      <td>4.508000e+07</td>\n",
       "    </tr>\n",
       "    <tr>\n",
       "      <th>6/1/1950</th>\n",
       "      <td>18.770000</td>\n",
       "      <td>19.400000</td>\n",
       "      <td>17.440001</td>\n",
       "      <td>17.690001</td>\n",
       "      <td>17.690001</td>\n",
       "      <td>4.566000e+07</td>\n",
       "    </tr>\n",
       "    <tr>\n",
       "      <th>7/1/1950</th>\n",
       "      <td>17.639999</td>\n",
       "      <td>17.910000</td>\n",
       "      <td>16.680000</td>\n",
       "      <td>17.840000</td>\n",
       "      <td>17.840000</td>\n",
       "      <td>4.457000e+07</td>\n",
       "    </tr>\n",
       "    <tr>\n",
       "      <th>8/1/1950</th>\n",
       "      <td>18.020000</td>\n",
       "      <td>18.820000</td>\n",
       "      <td>17.950001</td>\n",
       "      <td>18.420000</td>\n",
       "      <td>18.420000</td>\n",
       "      <td>3.890000e+07</td>\n",
       "    </tr>\n",
       "    <tr>\n",
       "      <th>9/1/1950</th>\n",
       "      <td>18.549999</td>\n",
       "      <td>19.450001</td>\n",
       "      <td>18.540001</td>\n",
       "      <td>19.450001</td>\n",
       "      <td>19.450001</td>\n",
       "      <td>3.859000e+07</td>\n",
       "    </tr>\n",
       "    <tr>\n",
       "      <th>10/1/1950</th>\n",
       "      <td>19.690001</td>\n",
       "      <td>20.160000</td>\n",
       "      <td>19.530001</td>\n",
       "      <td>19.530001</td>\n",
       "      <td>19.530001</td>\n",
       "      <td>4.836000e+07</td>\n",
       "    </tr>\n",
       "    <tr>\n",
       "      <th>11/1/1950</th>\n",
       "      <td>19.559999</td>\n",
       "      <td>20.320000</td>\n",
       "      <td>19.360001</td>\n",
       "      <td>19.510000</td>\n",
       "      <td>19.510000</td>\n",
       "      <td>4.318000e+07</td>\n",
       "    </tr>\n",
       "    <tr>\n",
       "      <th>12/1/1950</th>\n",
       "      <td>19.660000</td>\n",
       "      <td>20.430000</td>\n",
       "      <td>19.000000</td>\n",
       "      <td>20.410000</td>\n",
       "      <td>20.410000</td>\n",
       "      <td>6.083000e+07</td>\n",
       "    </tr>\n",
       "    <tr>\n",
       "      <th>1/1/1951</th>\n",
       "      <td>20.770000</td>\n",
       "      <td>21.740000</td>\n",
       "      <td>20.690001</td>\n",
       "      <td>21.660000</td>\n",
       "      <td>21.660000</td>\n",
       "      <td>7.018000e+07</td>\n",
       "    </tr>\n",
       "    <tr>\n",
       "      <th>2/1/1951</th>\n",
       "      <td>21.770000</td>\n",
       "      <td>22.209999</td>\n",
       "      <td>21.760000</td>\n",
       "      <td>21.799999</td>\n",
       "      <td>21.799999</td>\n",
       "      <td>4.121000e+07</td>\n",
       "    </tr>\n",
       "    <tr>\n",
       "      <th>3/1/1951</th>\n",
       "      <td>21.850000</td>\n",
       "      <td>21.950001</td>\n",
       "      <td>21.250000</td>\n",
       "      <td>21.400000</td>\n",
       "      <td>21.400000</td>\n",
       "      <td>3.553000e+07</td>\n",
       "    </tr>\n",
       "    <tr>\n",
       "      <th>4/1/1951</th>\n",
       "      <td>21.320000</td>\n",
       "      <td>22.430000</td>\n",
       "      <td>21.260000</td>\n",
       "      <td>22.430000</td>\n",
       "      <td>22.430000</td>\n",
       "      <td>3.779000e+07</td>\n",
       "    </tr>\n",
       "    <tr>\n",
       "      <th>5/1/1951</th>\n",
       "      <td>22.530001</td>\n",
       "      <td>22.809999</td>\n",
       "      <td>21.030001</td>\n",
       "      <td>21.520000</td>\n",
       "      <td>21.520000</td>\n",
       "      <td>3.844000e+07</td>\n",
       "    </tr>\n",
       "    <tr>\n",
       "      <th>6/1/1951</th>\n",
       "      <td>21.480000</td>\n",
       "      <td>22.049999</td>\n",
       "      <td>20.959999</td>\n",
       "      <td>20.959999</td>\n",
       "      <td>20.959999</td>\n",
       "      <td>3.622000e+07</td>\n",
       "    </tr>\n",
       "    <tr>\n",
       "      <th>7/1/1951</th>\n",
       "      <td>21.100000</td>\n",
       "      <td>22.629999</td>\n",
       "      <td>21.100000</td>\n",
       "      <td>22.400000</td>\n",
       "      <td>22.400000</td>\n",
       "      <td>2.799000e+07</td>\n",
       "    </tr>\n",
       "    <tr>\n",
       "      <th>8/1/1951</th>\n",
       "      <td>22.510000</td>\n",
       "      <td>23.280001</td>\n",
       "      <td>22.510000</td>\n",
       "      <td>23.280001</td>\n",
       "      <td>23.280001</td>\n",
       "      <td>3.363000e+07</td>\n",
       "    </tr>\n",
       "    <tr>\n",
       "      <th>9/1/1951</th>\n",
       "      <td>23.280001</td>\n",
       "      <td>23.709999</td>\n",
       "      <td>23.260000</td>\n",
       "      <td>23.260000</td>\n",
       "      <td>23.260000</td>\n",
       "      <td>3.642000e+07</td>\n",
       "    </tr>\n",
       "    <tr>\n",
       "      <th>10/1/1951</th>\n",
       "      <td>23.469999</td>\n",
       "      <td>23.850000</td>\n",
       "      <td>22.450001</td>\n",
       "      <td>22.940001</td>\n",
       "      <td>22.940001</td>\n",
       "      <td>4.293000e+07</td>\n",
       "    </tr>\n",
       "    <tr>\n",
       "      <th>11/1/1951</th>\n",
       "      <td>23.100000</td>\n",
       "      <td>23.100000</td>\n",
       "      <td>22.299999</td>\n",
       "      <td>22.879999</td>\n",
       "      <td>22.879999</td>\n",
       "      <td>2.928000e+07</td>\n",
       "    </tr>\n",
       "    <tr>\n",
       "      <th>12/1/1951</th>\n",
       "      <td>22.940001</td>\n",
       "      <td>23.770000</td>\n",
       "      <td>22.940001</td>\n",
       "      <td>23.770000</td>\n",
       "      <td>23.770000</td>\n",
       "      <td>3.461000e+07</td>\n",
       "    </tr>\n",
       "    <tr>\n",
       "      <th>1/1/1952</th>\n",
       "      <td>23.799999</td>\n",
       "      <td>24.660000</td>\n",
       "      <td>23.740000</td>\n",
       "      <td>24.139999</td>\n",
       "      <td>24.139999</td>\n",
       "      <td>4.156000e+07</td>\n",
       "    </tr>\n",
       "    <tr>\n",
       "      <th>2/1/1952</th>\n",
       "      <td>24.299999</td>\n",
       "      <td>24.410000</td>\n",
       "      <td>23.090000</td>\n",
       "      <td>23.260000</td>\n",
       "      <td>23.260000</td>\n",
       "      <td>2.719000e+07</td>\n",
       "    </tr>\n",
       "    <tr>\n",
       "      <th>3/1/1952</th>\n",
       "      <td>23.280001</td>\n",
       "      <td>24.370001</td>\n",
       "      <td>23.280001</td>\n",
       "      <td>24.370001</td>\n",
       "      <td>24.370001</td>\n",
       "      <td>2.950000e+07</td>\n",
       "    </tr>\n",
       "    <tr>\n",
       "      <th>4/1/1952</th>\n",
       "      <td>24.180000</td>\n",
       "      <td>24.180000</td>\n",
       "      <td>23.320000</td>\n",
       "      <td>23.320000</td>\n",
       "      <td>23.320000</td>\n",
       "      <td>2.888000e+07</td>\n",
       "    </tr>\n",
       "    <tr>\n",
       "      <th>5/1/1952</th>\n",
       "      <td>23.170000</td>\n",
       "      <td>23.940001</td>\n",
       "      <td>23.170000</td>\n",
       "      <td>23.860001</td>\n",
       "      <td>23.860001</td>\n",
       "      <td>2.401000e+07</td>\n",
       "    </tr>\n",
       "    <tr>\n",
       "      <th>6/1/1952</th>\n",
       "      <td>23.799999</td>\n",
       "      <td>24.959999</td>\n",
       "      <td>23.780001</td>\n",
       "      <td>24.959999</td>\n",
       "      <td>24.959999</td>\n",
       "      <td>2.553000e+07</td>\n",
       "    </tr>\n",
       "    <tr>\n",
       "      <th>...</th>\n",
       "      <td>...</td>\n",
       "      <td>...</td>\n",
       "      <td>...</td>\n",
       "      <td>...</td>\n",
       "      <td>...</td>\n",
       "      <td>...</td>\n",
       "    </tr>\n",
       "    <tr>\n",
       "      <th>4/1/2015</th>\n",
       "      <td>2067.629883</td>\n",
       "      <td>2125.919922</td>\n",
       "      <td>2048.379883</td>\n",
       "      <td>2085.510010</td>\n",
       "      <td>2085.510010</td>\n",
       "      <td>6.944094e+10</td>\n",
       "    </tr>\n",
       "    <tr>\n",
       "      <th>5/1/2015</th>\n",
       "      <td>2087.379883</td>\n",
       "      <td>2134.719971</td>\n",
       "      <td>2067.929932</td>\n",
       "      <td>2107.389893</td>\n",
       "      <td>2107.389893</td>\n",
       "      <td>6.518773e+10</td>\n",
       "    </tr>\n",
       "    <tr>\n",
       "      <th>6/1/2015</th>\n",
       "      <td>2108.639893</td>\n",
       "      <td>2129.870117</td>\n",
       "      <td>2056.320068</td>\n",
       "      <td>2063.110107</td>\n",
       "      <td>2063.110107</td>\n",
       "      <td>7.321398e+10</td>\n",
       "    </tr>\n",
       "    <tr>\n",
       "      <th>7/1/2015</th>\n",
       "      <td>2067.000000</td>\n",
       "      <td>2132.820068</td>\n",
       "      <td>2044.020020</td>\n",
       "      <td>2103.840088</td>\n",
       "      <td>2103.840088</td>\n",
       "      <td>7.792059e+10</td>\n",
       "    </tr>\n",
       "    <tr>\n",
       "      <th>8/1/2015</th>\n",
       "      <td>2104.489990</td>\n",
       "      <td>2112.659912</td>\n",
       "      <td>1867.010010</td>\n",
       "      <td>1972.180054</td>\n",
       "      <td>1972.180054</td>\n",
       "      <td>8.462679e+10</td>\n",
       "    </tr>\n",
       "    <tr>\n",
       "      <th>9/1/2015</th>\n",
       "      <td>1970.089966</td>\n",
       "      <td>2020.859985</td>\n",
       "      <td>1871.910034</td>\n",
       "      <td>1920.030029</td>\n",
       "      <td>1920.030029</td>\n",
       "      <td>7.996837e+10</td>\n",
       "    </tr>\n",
       "    <tr>\n",
       "      <th>10/1/2015</th>\n",
       "      <td>1919.650024</td>\n",
       "      <td>2094.320068</td>\n",
       "      <td>1893.699951</td>\n",
       "      <td>2079.360107</td>\n",
       "      <td>2079.360107</td>\n",
       "      <td>8.584490e+10</td>\n",
       "    </tr>\n",
       "    <tr>\n",
       "      <th>11/1/2015</th>\n",
       "      <td>2080.760010</td>\n",
       "      <td>2116.479980</td>\n",
       "      <td>2019.390015</td>\n",
       "      <td>2080.409912</td>\n",
       "      <td>2080.409912</td>\n",
       "      <td>7.594359e+10</td>\n",
       "    </tr>\n",
       "    <tr>\n",
       "      <th>12/1/2015</th>\n",
       "      <td>2082.929932</td>\n",
       "      <td>2104.270020</td>\n",
       "      <td>1993.260010</td>\n",
       "      <td>2043.939941</td>\n",
       "      <td>2043.939941</td>\n",
       "      <td>8.364926e+10</td>\n",
       "    </tr>\n",
       "    <tr>\n",
       "      <th>1/1/2016</th>\n",
       "      <td>2038.199951</td>\n",
       "      <td>2038.199951</td>\n",
       "      <td>1812.290039</td>\n",
       "      <td>1940.239990</td>\n",
       "      <td>1940.239990</td>\n",
       "      <td>9.240977e+10</td>\n",
       "    </tr>\n",
       "    <tr>\n",
       "      <th>2/1/2016</th>\n",
       "      <td>1936.939941</td>\n",
       "      <td>1962.959961</td>\n",
       "      <td>1810.099976</td>\n",
       "      <td>1932.229980</td>\n",
       "      <td>1932.229980</td>\n",
       "      <td>9.304956e+10</td>\n",
       "    </tr>\n",
       "    <tr>\n",
       "      <th>3/1/2016</th>\n",
       "      <td>1937.089966</td>\n",
       "      <td>2072.209961</td>\n",
       "      <td>1937.089966</td>\n",
       "      <td>2059.739990</td>\n",
       "      <td>2059.739990</td>\n",
       "      <td>9.263942e+10</td>\n",
       "    </tr>\n",
       "    <tr>\n",
       "      <th>4/1/2016</th>\n",
       "      <td>2056.620117</td>\n",
       "      <td>2111.050049</td>\n",
       "      <td>2033.800049</td>\n",
       "      <td>2065.300049</td>\n",
       "      <td>2065.300049</td>\n",
       "      <td>8.112499e+10</td>\n",
       "    </tr>\n",
       "    <tr>\n",
       "      <th>5/1/2016</th>\n",
       "      <td>2067.169922</td>\n",
       "      <td>2103.479980</td>\n",
       "      <td>2025.910034</td>\n",
       "      <td>2096.949951</td>\n",
       "      <td>2096.949951</td>\n",
       "      <td>7.888360e+10</td>\n",
       "    </tr>\n",
       "    <tr>\n",
       "      <th>6/1/2016</th>\n",
       "      <td>2093.939941</td>\n",
       "      <td>2120.550049</td>\n",
       "      <td>1991.680054</td>\n",
       "      <td>2098.860107</td>\n",
       "      <td>2098.860107</td>\n",
       "      <td>8.685270e+10</td>\n",
       "    </tr>\n",
       "    <tr>\n",
       "      <th>7/1/2016</th>\n",
       "      <td>2099.340088</td>\n",
       "      <td>2177.090088</td>\n",
       "      <td>2074.020020</td>\n",
       "      <td>2173.600098</td>\n",
       "      <td>2173.600098</td>\n",
       "      <td>6.953025e+10</td>\n",
       "    </tr>\n",
       "    <tr>\n",
       "      <th>8/1/2016</th>\n",
       "      <td>2173.149902</td>\n",
       "      <td>2193.810059</td>\n",
       "      <td>2147.580078</td>\n",
       "      <td>2170.949951</td>\n",
       "      <td>2170.949951</td>\n",
       "      <td>7.561031e+10</td>\n",
       "    </tr>\n",
       "    <tr>\n",
       "      <th>9/1/2016</th>\n",
       "      <td>2171.330078</td>\n",
       "      <td>2187.870117</td>\n",
       "      <td>2119.120117</td>\n",
       "      <td>2168.270020</td>\n",
       "      <td>2168.270020</td>\n",
       "      <td>7.727024e+10</td>\n",
       "    </tr>\n",
       "    <tr>\n",
       "      <th>10/1/2016</th>\n",
       "      <td>2164.330078</td>\n",
       "      <td>2169.600098</td>\n",
       "      <td>2114.719971</td>\n",
       "      <td>2126.149902</td>\n",
       "      <td>2126.149902</td>\n",
       "      <td>7.319663e+10</td>\n",
       "    </tr>\n",
       "    <tr>\n",
       "      <th>11/1/2016</th>\n",
       "      <td>2128.679932</td>\n",
       "      <td>2214.100098</td>\n",
       "      <td>2083.790039</td>\n",
       "      <td>2198.810059</td>\n",
       "      <td>2198.810059</td>\n",
       "      <td>8.829976e+10</td>\n",
       "    </tr>\n",
       "    <tr>\n",
       "      <th>12/1/2016</th>\n",
       "      <td>2200.169922</td>\n",
       "      <td>2277.530029</td>\n",
       "      <td>2187.439941</td>\n",
       "      <td>2238.830078</td>\n",
       "      <td>2238.830078</td>\n",
       "      <td>7.525124e+10</td>\n",
       "    </tr>\n",
       "    <tr>\n",
       "      <th>1/1/2017</th>\n",
       "      <td>2251.570068</td>\n",
       "      <td>2300.989990</td>\n",
       "      <td>2245.129883</td>\n",
       "      <td>2278.870117</td>\n",
       "      <td>2278.870117</td>\n",
       "      <td>7.048318e+10</td>\n",
       "    </tr>\n",
       "    <tr>\n",
       "      <th>2/1/2017</th>\n",
       "      <td>2285.590088</td>\n",
       "      <td>2371.540039</td>\n",
       "      <td>2271.649902</td>\n",
       "      <td>2363.639893</td>\n",
       "      <td>2363.639893</td>\n",
       "      <td>6.916242e+10</td>\n",
       "    </tr>\n",
       "    <tr>\n",
       "      <th>3/1/2017</th>\n",
       "      <td>2380.129883</td>\n",
       "      <td>2400.979980</td>\n",
       "      <td>2322.250000</td>\n",
       "      <td>2362.719971</td>\n",
       "      <td>2362.719971</td>\n",
       "      <td>8.154777e+10</td>\n",
       "    </tr>\n",
       "    <tr>\n",
       "      <th>4/1/2017</th>\n",
       "      <td>2362.340088</td>\n",
       "      <td>2398.159912</td>\n",
       "      <td>2328.949951</td>\n",
       "      <td>2384.199951</td>\n",
       "      <td>2384.199951</td>\n",
       "      <td>6.526567e+10</td>\n",
       "    </tr>\n",
       "    <tr>\n",
       "      <th>5/1/2017</th>\n",
       "      <td>2388.500000</td>\n",
       "      <td>2418.709961</td>\n",
       "      <td>2352.719971</td>\n",
       "      <td>2411.800049</td>\n",
       "      <td>2411.800049</td>\n",
       "      <td>7.960717e+10</td>\n",
       "    </tr>\n",
       "    <tr>\n",
       "      <th>6/1/2017</th>\n",
       "      <td>2415.649902</td>\n",
       "      <td>2453.820068</td>\n",
       "      <td>2405.699951</td>\n",
       "      <td>2423.409912</td>\n",
       "      <td>2423.409912</td>\n",
       "      <td>8.100249e+10</td>\n",
       "    </tr>\n",
       "    <tr>\n",
       "      <th>7/1/2017</th>\n",
       "      <td>2431.389893</td>\n",
       "      <td>2484.040039</td>\n",
       "      <td>2407.699951</td>\n",
       "      <td>2470.300049</td>\n",
       "      <td>2470.300049</td>\n",
       "      <td>6.316940e+10</td>\n",
       "    </tr>\n",
       "    <tr>\n",
       "      <th>8/1/2017</th>\n",
       "      <td>2477.100098</td>\n",
       "      <td>2490.870117</td>\n",
       "      <td>2417.350098</td>\n",
       "      <td>2471.649902</td>\n",
       "      <td>2471.649902</td>\n",
       "      <td>7.061603e+10</td>\n",
       "    </tr>\n",
       "    <tr>\n",
       "      <th>9/1/2017</th>\n",
       "      <td>2474.419922</td>\n",
       "      <td>2498.370117</td>\n",
       "      <td>2446.550049</td>\n",
       "      <td>2498.370117</td>\n",
       "      <td>2498.370117</td>\n",
       "      <td>2.283079e+10</td>\n",
       "    </tr>\n",
       "  </tbody>\n",
       "</table>\n",
       "<p>813 rows × 6 columns</p>\n",
       "</div>"
      ],
      "text/plain": [
       "                  Open         High          Low        Close    Adj Close  \\\n",
       "Date                                                                         \n",
       "1/1/1950     16.660000    17.090000    16.650000    17.049999    17.049999   \n",
       "2/1/1950     17.049999    17.350000    16.990000    17.219999    17.219999   \n",
       "3/1/1950     17.240000    17.610001    17.070000    17.290001    17.290001   \n",
       "4/1/1950     17.340000    18.070000    17.340000    18.070000    18.070000   \n",
       "5/1/1950     18.219999    18.780001    18.110001    18.780001    18.780001   \n",
       "6/1/1950     18.770000    19.400000    17.440001    17.690001    17.690001   \n",
       "7/1/1950     17.639999    17.910000    16.680000    17.840000    17.840000   \n",
       "8/1/1950     18.020000    18.820000    17.950001    18.420000    18.420000   \n",
       "9/1/1950     18.549999    19.450001    18.540001    19.450001    19.450001   \n",
       "10/1/1950    19.690001    20.160000    19.530001    19.530001    19.530001   \n",
       "11/1/1950    19.559999    20.320000    19.360001    19.510000    19.510000   \n",
       "12/1/1950    19.660000    20.430000    19.000000    20.410000    20.410000   \n",
       "1/1/1951     20.770000    21.740000    20.690001    21.660000    21.660000   \n",
       "2/1/1951     21.770000    22.209999    21.760000    21.799999    21.799999   \n",
       "3/1/1951     21.850000    21.950001    21.250000    21.400000    21.400000   \n",
       "4/1/1951     21.320000    22.430000    21.260000    22.430000    22.430000   \n",
       "5/1/1951     22.530001    22.809999    21.030001    21.520000    21.520000   \n",
       "6/1/1951     21.480000    22.049999    20.959999    20.959999    20.959999   \n",
       "7/1/1951     21.100000    22.629999    21.100000    22.400000    22.400000   \n",
       "8/1/1951     22.510000    23.280001    22.510000    23.280001    23.280001   \n",
       "9/1/1951     23.280001    23.709999    23.260000    23.260000    23.260000   \n",
       "10/1/1951    23.469999    23.850000    22.450001    22.940001    22.940001   \n",
       "11/1/1951    23.100000    23.100000    22.299999    22.879999    22.879999   \n",
       "12/1/1951    22.940001    23.770000    22.940001    23.770000    23.770000   \n",
       "1/1/1952     23.799999    24.660000    23.740000    24.139999    24.139999   \n",
       "2/1/1952     24.299999    24.410000    23.090000    23.260000    23.260000   \n",
       "3/1/1952     23.280001    24.370001    23.280001    24.370001    24.370001   \n",
       "4/1/1952     24.180000    24.180000    23.320000    23.320000    23.320000   \n",
       "5/1/1952     23.170000    23.940001    23.170000    23.860001    23.860001   \n",
       "6/1/1952     23.799999    24.959999    23.780001    24.959999    24.959999   \n",
       "...                ...          ...          ...          ...          ...   \n",
       "4/1/2015   2067.629883  2125.919922  2048.379883  2085.510010  2085.510010   \n",
       "5/1/2015   2087.379883  2134.719971  2067.929932  2107.389893  2107.389893   \n",
       "6/1/2015   2108.639893  2129.870117  2056.320068  2063.110107  2063.110107   \n",
       "7/1/2015   2067.000000  2132.820068  2044.020020  2103.840088  2103.840088   \n",
       "8/1/2015   2104.489990  2112.659912  1867.010010  1972.180054  1972.180054   \n",
       "9/1/2015   1970.089966  2020.859985  1871.910034  1920.030029  1920.030029   \n",
       "10/1/2015  1919.650024  2094.320068  1893.699951  2079.360107  2079.360107   \n",
       "11/1/2015  2080.760010  2116.479980  2019.390015  2080.409912  2080.409912   \n",
       "12/1/2015  2082.929932  2104.270020  1993.260010  2043.939941  2043.939941   \n",
       "1/1/2016   2038.199951  2038.199951  1812.290039  1940.239990  1940.239990   \n",
       "2/1/2016   1936.939941  1962.959961  1810.099976  1932.229980  1932.229980   \n",
       "3/1/2016   1937.089966  2072.209961  1937.089966  2059.739990  2059.739990   \n",
       "4/1/2016   2056.620117  2111.050049  2033.800049  2065.300049  2065.300049   \n",
       "5/1/2016   2067.169922  2103.479980  2025.910034  2096.949951  2096.949951   \n",
       "6/1/2016   2093.939941  2120.550049  1991.680054  2098.860107  2098.860107   \n",
       "7/1/2016   2099.340088  2177.090088  2074.020020  2173.600098  2173.600098   \n",
       "8/1/2016   2173.149902  2193.810059  2147.580078  2170.949951  2170.949951   \n",
       "9/1/2016   2171.330078  2187.870117  2119.120117  2168.270020  2168.270020   \n",
       "10/1/2016  2164.330078  2169.600098  2114.719971  2126.149902  2126.149902   \n",
       "11/1/2016  2128.679932  2214.100098  2083.790039  2198.810059  2198.810059   \n",
       "12/1/2016  2200.169922  2277.530029  2187.439941  2238.830078  2238.830078   \n",
       "1/1/2017   2251.570068  2300.989990  2245.129883  2278.870117  2278.870117   \n",
       "2/1/2017   2285.590088  2371.540039  2271.649902  2363.639893  2363.639893   \n",
       "3/1/2017   2380.129883  2400.979980  2322.250000  2362.719971  2362.719971   \n",
       "4/1/2017   2362.340088  2398.159912  2328.949951  2384.199951  2384.199951   \n",
       "5/1/2017   2388.500000  2418.709961  2352.719971  2411.800049  2411.800049   \n",
       "6/1/2017   2415.649902  2453.820068  2405.699951  2423.409912  2423.409912   \n",
       "7/1/2017   2431.389893  2484.040039  2407.699951  2470.300049  2470.300049   \n",
       "8/1/2017   2477.100098  2490.870117  2417.350098  2471.649902  2471.649902   \n",
       "9/1/2017   2474.419922  2498.370117  2446.550049  2498.370117  2498.370117   \n",
       "\n",
       "                 Volume  \n",
       "Date                     \n",
       "1/1/1950   4.257000e+07  \n",
       "2/1/1950   3.343000e+07  \n",
       "3/1/1950   4.041000e+07  \n",
       "4/1/1950   4.825000e+07  \n",
       "5/1/1950   4.508000e+07  \n",
       "6/1/1950   4.566000e+07  \n",
       "7/1/1950   4.457000e+07  \n",
       "8/1/1950   3.890000e+07  \n",
       "9/1/1950   3.859000e+07  \n",
       "10/1/1950  4.836000e+07  \n",
       "11/1/1950  4.318000e+07  \n",
       "12/1/1950  6.083000e+07  \n",
       "1/1/1951   7.018000e+07  \n",
       "2/1/1951   4.121000e+07  \n",
       "3/1/1951   3.553000e+07  \n",
       "4/1/1951   3.779000e+07  \n",
       "5/1/1951   3.844000e+07  \n",
       "6/1/1951   3.622000e+07  \n",
       "7/1/1951   2.799000e+07  \n",
       "8/1/1951   3.363000e+07  \n",
       "9/1/1951   3.642000e+07  \n",
       "10/1/1951  4.293000e+07  \n",
       "11/1/1951  2.928000e+07  \n",
       "12/1/1951  3.461000e+07  \n",
       "1/1/1952   4.156000e+07  \n",
       "2/1/1952   2.719000e+07  \n",
       "3/1/1952   2.950000e+07  \n",
       "4/1/1952   2.888000e+07  \n",
       "5/1/1952   2.401000e+07  \n",
       "6/1/1952   2.553000e+07  \n",
       "...                 ...  \n",
       "4/1/2015   6.944094e+10  \n",
       "5/1/2015   6.518773e+10  \n",
       "6/1/2015   7.321398e+10  \n",
       "7/1/2015   7.792059e+10  \n",
       "8/1/2015   8.462679e+10  \n",
       "9/1/2015   7.996837e+10  \n",
       "10/1/2015  8.584490e+10  \n",
       "11/1/2015  7.594359e+10  \n",
       "12/1/2015  8.364926e+10  \n",
       "1/1/2016   9.240977e+10  \n",
       "2/1/2016   9.304956e+10  \n",
       "3/1/2016   9.263942e+10  \n",
       "4/1/2016   8.112499e+10  \n",
       "5/1/2016   7.888360e+10  \n",
       "6/1/2016   8.685270e+10  \n",
       "7/1/2016   6.953025e+10  \n",
       "8/1/2016   7.561031e+10  \n",
       "9/1/2016   7.727024e+10  \n",
       "10/1/2016  7.319663e+10  \n",
       "11/1/2016  8.829976e+10  \n",
       "12/1/2016  7.525124e+10  \n",
       "1/1/2017   7.048318e+10  \n",
       "2/1/2017   6.916242e+10  \n",
       "3/1/2017   8.154777e+10  \n",
       "4/1/2017   6.526567e+10  \n",
       "5/1/2017   7.960717e+10  \n",
       "6/1/2017   8.100249e+10  \n",
       "7/1/2017   6.316940e+10  \n",
       "8/1/2017   7.061603e+10  \n",
       "9/1/2017   2.283079e+10  \n",
       "\n",
       "[813 rows x 6 columns]"
      ]
     },
     "execution_count": 3,
     "metadata": {},
     "output_type": "execute_result"
    }
   ],
   "source": [
    "dff # Data frame with index set on date"
   ]
  },
  {
   "cell_type": "code",
   "execution_count": 16,
   "metadata": {
    "collapsed": false
   },
   "outputs": [
    {
     "data": {
      "text/plain": [
       "0.0070080464590915395"
      ]
     },
     "execution_count": 16,
     "metadata": {},
     "output_type": "execute_result"
    }
   ],
   "source": [
    "R = [] # Declaring empty list\n",
    "\n",
    "R = [(dff.iloc[i, 3] - dff.iloc[i-1,3])/dff.iloc[i-1, 3] for i in range(1,812)] #Computing Return for each month\n",
    "\n",
    "np.mean(R) # Mean of monthly returns"
   ]
  },
  {
   "cell_type": "markdown",
   "metadata": {},
   "source": [
    "#### (b) What would have been your annualized HPR if you invested as of the start of the index?"
   ]
  },
  {
   "cell_type": "code",
   "execution_count": 17,
   "metadata": {
    "collapsed": false
   },
   "outputs": [
    {
     "data": {
      "text/plain": [
       "1.0764137199026858"
      ]
     },
     "execution_count": 17,
     "metadata": {},
     "output_type": "execute_result"
    }
   ],
   "source": [
    "R2 = []\n",
    "R2 = [(R[i]+1) for i in range(0,811)] # Calculating 1+R\n",
    "\n",
    "# Function for GeoMean\n",
    "def geo_mean_overflow(iterable):\n",
    "    a = np.log(iterable)\n",
    "    return np.exp(a.sum()/len(a))\n",
    "\n",
    "# Calculating Annual HPR\n",
    "np.power(geo_mean_overflow(R2),12)"
   ]
  },
  {
   "cell_type": "markdown",
   "metadata": {},
   "source": [
    "#### Alternatively,"
   ]
  },
  {
   "cell_type": "code",
   "execution_count": 18,
   "metadata": {
    "collapsed": false
   },
   "outputs": [
    {
     "data": {
      "text/plain": [
       "1.076218752072424"
      ]
     },
     "execution_count": 18,
     "metadata": {},
     "output_type": "execute_result"
    }
   ],
   "source": [
    "np.power(np.prod(R2),12/813) #Annual HPR"
   ]
  },
  {
   "cell_type": "markdown",
   "metadata": {},
   "source": [
    "#### (c)  In what month occurred the lowest monthly return? What happened?"
   ]
  },
  {
   "cell_type": "code",
   "execution_count": 20,
   "metadata": {
    "collapsed": false
   },
   "outputs": [
    {
     "data": {
      "text/plain": [
       "'10/1/1987'"
      ]
     },
     "execution_count": 20,
     "metadata": {},
     "output_type": "execute_result"
    }
   ],
   "source": [
    "idx=R.index(min(R)) #Getting index of lowest return\n",
    "idx = idx+1\n",
    "\n",
    "dff.index[idx] #Looking for date corresponding to the index"
   ]
  },
  {
   "cell_type": "code",
   "execution_count": 22,
   "metadata": {
    "collapsed": false
   },
   "outputs": [
    {
     "data": {
      "text/plain": [
       "-0.21763041614888423"
      ]
     },
     "execution_count": 22,
     "metadata": {},
     "output_type": "execute_result"
    }
   ],
   "source": [
    "min(R) #Min Return"
   ]
  },
  {
   "cell_type": "markdown",
   "metadata": {},
   "source": [
    "October 1987 (not September 1987!) with a return of -21:763%. This was mainly concentrated on Monday October 19, 1987 known as Black Monday. See e.g.: [Black Monday](http://en.wikipedia.org/wiki/BlackMonday_(1987))"
   ]
  }
 ],
 "metadata": {
  "kernelspec": {
   "display_name": "Python 3",
   "language": "python",
   "name": "python3"
  },
  "language_info": {
   "codemirror_mode": {
    "name": "ipython",
    "version": 3
   },
   "file_extension": ".py",
   "mimetype": "text/x-python",
   "name": "python",
   "nbconvert_exporter": "python",
   "pygments_lexer": "ipython3",
   "version": "3.6.0"
  }
 },
 "nbformat": 4,
 "nbformat_minor": 2
}

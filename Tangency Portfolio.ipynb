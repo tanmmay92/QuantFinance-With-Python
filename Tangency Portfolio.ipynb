{
 "cells": [
  {
   "cell_type": "code",
   "execution_count": 1,
   "metadata": {
    "collapsed": true
   },
   "outputs": [],
   "source": [
    "from numpy import matrix, power\n",
    "from math import sqrt\n",
    "import numpy as np\n",
    "from numpy import linalg\n",
    "import scipy\n",
    "\n",
    "# The Tangent Portfolio Function uses mean of individual assets, covariance matrix and the risk-free return\n",
    "# to calculate the weights of the individual assets, the return and risk of the tangency portfolio\n",
    "\n",
    "def TangentPortfolio(m,C,rf):\n",
    "    # find number of rows and columns for the covariance matrix \n",
    "    (nr,nc)=C.shape\n",
    "    Z=linalg.inv(cov)\n",
    "    Z2 = Z*(m-rf)\n",
    "    Z2=Z2/sum(Z2[r,0] for r in range(nr))\n",
    "    w=[Z2[r,0] for r in range(nr)]\n",
    "    pret=mu.T*Z2\n",
    "    prsk=power(Z2.T*(C*Z2),0.5)\n",
    "    return matrix(w),pret,prsk"
   ]
  },
  {
   "cell_type": "code",
   "execution_count": 2,
   "metadata": {
    "collapsed": false
   },
   "outputs": [
    {
     "name": "stdout",
     "output_type": "stream",
     "text": [
      "SD\n",
      "[[ 0.16 ]\n",
      " [ 0.142]\n",
      " [ 0.174]\n",
      " [ 0.21 ]\n",
      " [ 0.21 ]]\n"
     ]
    }
   ],
   "source": [
    "SD = np.array([[0.16],[0.142],[0.174],[0.21],[0.21]]) # Input SD of assets\n",
    "print('SD')\n",
    "print(SD)"
   ]
  },
  {
   "cell_type": "code",
   "execution_count": 3,
   "metadata": {
    "collapsed": false
   },
   "outputs": [
    {
     "name": "stdout",
     "output_type": "stream",
     "text": [
      "Transpose\n",
      "[[ 0.16   0.142  0.174  0.21   0.21 ]]\n"
     ]
    }
   ],
   "source": [
    "SD_T = np.transpose(SD) # Finding Transpose of the SD matrix\n",
    "print('Transpose')\n",
    "print(SD_T)"
   ]
  },
  {
   "cell_type": "code",
   "execution_count": 4,
   "metadata": {
    "collapsed": false
   },
   "outputs": [
    {
     "name": "stdout",
     "output_type": "stream",
     "text": [
      "[[ 0.0256    0.02272   0.02784   0.0336    0.0336  ]\n",
      " [ 0.02272   0.020164  0.024708  0.02982   0.02982 ]\n",
      " [ 0.02784   0.024708  0.030276  0.03654   0.03654 ]\n",
      " [ 0.0336    0.02982   0.03654   0.0441    0.0441  ]\n",
      " [ 0.0336    0.02982   0.03654   0.0441    0.0441  ]]\n"
     ]
    }
   ],
   "source": [
    "X = SD_T * SD # Finding SD(i,j)\n",
    "print(X)"
   ]
  },
  {
   "cell_type": "code",
   "execution_count": 5,
   "metadata": {
    "collapsed": true
   },
   "outputs": [],
   "source": [
    "Corr = np.array([[1,0,0,0,0],[0,1,0,0,0],[0,0,1,0,0],[0,0,0,1,0],[0,0,0,0,1]]) # Inputing the correlation of the assests"
   ]
  },
  {
   "cell_type": "code",
   "execution_count": 6,
   "metadata": {
    "collapsed": false
   },
   "outputs": [
    {
     "name": "stdout",
     "output_type": "stream",
     "text": [
      "[[ 0.0256    0.        0.        0.        0.      ]\n",
      " [ 0.        0.020164  0.        0.        0.      ]\n",
      " [ 0.        0.        0.030276  0.        0.      ]\n",
      " [ 0.        0.        0.        0.0441    0.      ]\n",
      " [ 0.        0.        0.        0.        0.0441  ]]\n"
     ]
    }
   ],
   "source": [
    "cov = Corr * X # Calculating the Covariance Matrix by Multiplying Correlation(i,j) & SD(i,j)\n",
    "print(cov)"
   ]
  },
  {
   "cell_type": "code",
   "execution_count": 7,
   "metadata": {
    "collapsed": false
   },
   "outputs": [],
   "source": [
    "mu=matrix([[0.05],[0.166],[0.1],[0.1],[0.12]]) # Inputing mean of individual Assets\n",
    "rf=0.04 # Inputing Risk-Free rate\n",
    "\n",
    "w,ret,rsk=TangentPortfolio(mu,cov,rf) # Calling the Tangency Portfolio Function to get our results"
   ]
  },
  {
   "cell_type": "code",
   "execution_count": 8,
   "metadata": {
    "collapsed": false
   },
   "outputs": [
    {
     "name": "stdout",
     "output_type": "stream",
     "text": [
      "Portfolio weights\n",
      "[[ 0.03311572]\n",
      " [ 0.52974647]\n",
      " [ 0.16800684]\n",
      " [ 0.11534184]\n",
      " [ 0.15378912]]\n",
      "Expected Portfolio Return and Risk\n",
      "[[ 0.13638326]] [[ 0.09039365]]\n"
     ]
    }
   ],
   "source": [
    "print(\"Portfolio weights\")\n",
    "print(w.T)\n",
    "print(\"Expected Portfolio Return and Risk\")\n",
    "print(ret,rsk)"
   ]
  },
  {
   "cell_type": "code",
   "execution_count": null,
   "metadata": {
    "collapsed": true
   },
   "outputs": [],
   "source": []
  }
 ],
 "metadata": {
  "anaconda-cloud": {},
  "kernelspec": {
   "display_name": "Python 3",
   "language": "python",
   "name": "python3"
  },
  "language_info": {
   "codemirror_mode": {
    "name": "ipython",
    "version": 3
   },
   "file_extension": ".py",
   "mimetype": "text/x-python",
   "name": "python",
   "nbconvert_exporter": "python",
   "pygments_lexer": "ipython3",
   "version": "3.6.0"
  }
 },
 "nbformat": 4,
 "nbformat_minor": 2
}

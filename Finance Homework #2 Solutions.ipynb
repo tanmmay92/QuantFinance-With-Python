{
 "cells": [
  {
   "cell_type": "code",
   "execution_count": 1,
   "metadata": {
    "collapsed": true
   },
   "outputs": [],
   "source": [
    "%matplotlib inline\n",
    "import numpy as np\n",
    "from math import log, sqrt, exp\n",
    "from scipy import stats\n",
    "from IPython.display import Image\n",
    "from IPython.core.display import HTML \n",
    "import pandas_datareader as pd_dr\n",
    "import pandas as pd\n",
    "import matplotlib.pyplot as plt"
   ]
  },
  {
   "cell_type": "markdown",
   "metadata": {},
   "source": [
    "#### 1. The expected returns and standard deviation of returns for two securities are as follows:\n",
    "                                Security Z Security Y\n",
    "Expected Return                     15%       35%\n",
    "Standard Deviation                  20%       40%\n",
    "The correlation between the returns is + .25."
   ]
  },
  {
   "cell_type": "markdown",
   "metadata": {},
   "source": [
    "                                              E(Rp) = WzERz + WyERy\n",
    "                                              "
   ]
  },
  {
   "cell_type": "code",
   "execution_count": 3,
   "metadata": {
    "collapsed": true
   },
   "outputs": [],
   "source": [
    "ERz = 0.15\n",
    "ERy = 0.35\n",
    "SDz = 0.20\n",
    "SDy = 0.40\n",
    "c = 0.25"
   ]
  },
  {
   "cell_type": "code",
   "execution_count": 13,
   "metadata": {
    "collapsed": true
   },
   "outputs": [],
   "source": [
    "Wz = [1,0.75,0.5,0.25,0]\n",
    "Wz = np.asarray(Wz)\n",
    "Wy = [0,0.25,0.5,0.75,1]\n",
    "Wy = np.asarray(Wy)"
   ]
  },
  {
   "cell_type": "code",
   "execution_count": 14,
   "metadata": {
    "collapsed": false
   },
   "outputs": [],
   "source": [
    "ERp = Wz*ERz + Wy*ERy"
   ]
  },
  {
   "cell_type": "code",
   "execution_count": 15,
   "metadata": {
    "collapsed": false
   },
   "outputs": [
    {
     "data": {
      "text/plain": [
       "array([ 0.15,  0.2 ,  0.25,  0.3 ,  0.35])"
      ]
     },
     "execution_count": 15,
     "metadata": {},
     "output_type": "execute_result"
    }
   ],
   "source": [
    "ERp"
   ]
  },
  {
   "cell_type": "markdown",
   "metadata": {},
   "source": [
    "                                Vp = (Wz*SDz)**2 + (Wy*SDy)**2 + 2*Wz*Wy*SDz*SDy*c"
   ]
  },
  {
   "cell_type": "code",
   "execution_count": 16,
   "metadata": {
    "collapsed": true
   },
   "outputs": [],
   "source": [
    "Vp = (Wz*SDz)**2 + (Wy*SDy)**2 + 2*Wz*Wy*SDz*SDy*c"
   ]
  },
  {
   "cell_type": "code",
   "execution_count": 19,
   "metadata": {
    "collapsed": false
   },
   "outputs": [],
   "source": [
    "SDp = Vp**0.5"
   ]
  },
  {
   "cell_type": "code",
   "execution_count": 20,
   "metadata": {
    "collapsed": false
   },
   "outputs": [
    {
     "data": {
      "text/plain": [
       "array([ 0.2       ,  0.2       ,  0.24494897,  0.31622777,  0.4       ])"
      ]
     },
     "execution_count": 20,
     "metadata": {},
     "output_type": "execute_result"
    }
   ],
   "source": [
    "SDp"
   ]
  },
  {
   "cell_type": "code",
   "execution_count": 42,
   "metadata": {
    "collapsed": false
   },
   "outputs": [],
   "source": [
    "d = {'SD': SDp,'ER': ERp}\n",
    "MV = pd.DataFrame(d)"
   ]
  },
  {
   "cell_type": "code",
   "execution_count": 49,
   "metadata": {
    "collapsed": false
   },
   "outputs": [
    {
     "data": {
      "text/plain": [
       "<matplotlib.axes._subplots.AxesSubplot at 0x13624b24588>"
      ]
     },
     "execution_count": 49,
     "metadata": {},
     "output_type": "execute_result"
    },
    {
     "data": {
      "image/png": "[encoded data removed]",
      "text/plain": [
       "<matplotlib.figure.Figure at 0x13624a20ac8>"
      ]
     },
     "metadata": {},
     "output_type": "display_data"
    }
   ],
   "source": [
    "MV.plot.scatter('SD', 'ER')"
   ]
  },
  {
   "cell_type": "markdown",
   "metadata": {
    "collapsed": true
   },
   "source": [
    "### 2. Suppose that a fund that tracks the S&P has mean E(Rm) = 16% and standard deviation \u001bM = 10%, and suppose that the T-bill rate Rf = 8%. Answer the following questions about efficient portfolios:\n",
    "\n",
    "#### (a) What is the expected return and standard deviation of a portfolio that is totally invested in the risk-free asset?\n"
   ]
  },
  {
   "cell_type": "markdown",
   "metadata": {},
   "source": [
    "The return on the risk free asset is given as 8%. The standard deviation of that\n",
    "return is 0 by definition, since the asset is risk free."
   ]
  },
  {
   "cell_type": "markdown",
   "metadata": {},
   "source": [
    "#### (b) What is the expected return and standard deviation of a portfolio that has 50% of its wealth in the risk-free asset and 50% in the S&P?"
   ]
  },
  {
   "cell_type": "code",
   "execution_count": 5,
   "metadata": {
    "collapsed": true
   },
   "outputs": [],
   "source": [
    "w1 = 0.5\n",
    "w2 = 0.5\n",
    "ERsnp = 0.16\n",
    "Rf = 0.08"
   ]
  },
  {
   "cell_type": "code",
   "execution_count": 6,
   "metadata": {
    "collapsed": true
   },
   "outputs": [],
   "source": [
    "ERp = w1*ERsnp + w2*Rf"
   ]
  },
  {
   "cell_type": "code",
   "execution_count": 7,
   "metadata": {
    "collapsed": false
   },
   "outputs": [
    {
     "data": {
      "text/plain": [
       "0.12"
      ]
     },
     "execution_count": 7,
     "metadata": {},
     "output_type": "execute_result"
    }
   ],
   "source": [
    "ERp"
   ]
  },
  {
   "cell_type": "code",
   "execution_count": 8,
   "metadata": {
    "collapsed": true
   },
   "outputs": [],
   "source": [
    "SDsnp = 0.1"
   ]
  },
  {
   "cell_type": "code",
   "execution_count": 9,
   "metadata": {
    "collapsed": true
   },
   "outputs": [],
   "source": [
    "SDp = w1*SDsnp"
   ]
  },
  {
   "cell_type": "code",
   "execution_count": 10,
   "metadata": {
    "collapsed": false
   },
   "outputs": [
    {
     "data": {
      "text/plain": [
       "0.05"
      ]
     },
     "execution_count": 10,
     "metadata": {},
     "output_type": "execute_result"
    }
   ],
   "source": [
    "SDp"
   ]
  },
  {
   "cell_type": "markdown",
   "metadata": {},
   "source": [
    "#### (c) What is the expected return and standard deviation of a portfolio that has 125% of its wealth in the S&P, financed by borrowing 25% of its wealth at the risk-free rate?"
   ]
  },
  {
   "cell_type": "code",
   "execution_count": 14,
   "metadata": {
    "collapsed": true
   },
   "outputs": [],
   "source": [
    "w1 = 1.25\n",
    "w2 = 1 - w1"
   ]
  },
  {
   "cell_type": "code",
   "execution_count": 15,
   "metadata": {
    "collapsed": true
   },
   "outputs": [],
   "source": [
    "ERp = w1*ERsnp + w2*Rf"
   ]
  },
  {
   "cell_type": "code",
   "execution_count": 16,
   "metadata": {
    "collapsed": false
   },
   "outputs": [
    {
     "data": {
      "text/plain": [
       "0.18000000000000002"
      ]
     },
     "execution_count": 16,
     "metadata": {},
     "output_type": "execute_result"
    }
   ],
   "source": [
    "ERp"
   ]
  },
  {
   "cell_type": "code",
   "execution_count": 17,
   "metadata": {
    "collapsed": true
   },
   "outputs": [],
   "source": [
    "SDp = w1*SDsnp"
   ]
  },
  {
   "cell_type": "code",
   "execution_count": 18,
   "metadata": {
    "collapsed": false
   },
   "outputs": [
    {
     "data": {
      "text/plain": [
       "0.125"
      ]
     },
     "execution_count": 18,
     "metadata": {},
     "output_type": "execute_result"
    }
   ],
   "source": [
    "SDp"
   ]
  },
  {
   "cell_type": "markdown",
   "metadata": {},
   "source": [
    "#### (d) What are the weights for investing in the risk-free asset and the S&P that produce a standard deviation for the entire portfolio that is twice the standard deviation of the S&P? What is the expected return on that portfolio?"
   ]
  },
  {
   "cell_type": "markdown",
   "metadata": {},
   "source": [
    "We know, SDp = w1*SDsnp\n",
    "for the risk of the portfolio. The question asks for w1 and w2 that produces\n",
    "SDp = 2*SDsnp. Substituting SDp for 2SDsnp into the equation gives:\n",
    "\n",
    "                                                          2SDsnp = w1 * SDsnp\n",
    "\n",
    "This implies, \n",
    "\n",
    "                                                          w1 = 2\n",
    "Therefore,\n",
    "\n",
    "                                                          w2 = 1-w1"
   ]
  },
  {
   "cell_type": "code",
   "execution_count": 19,
   "metadata": {
    "collapsed": true
   },
   "outputs": [],
   "source": [
    "w1 = 2\n",
    "w2 = 1-w1"
   ]
  },
  {
   "cell_type": "markdown",
   "metadata": {},
   "source": [
    "This says the following in words: To produce a portfolio that is twice as risky as\n",
    "the market, invest double your net worth in S&P (w1 = 2), financed by borrowing\n",
    "100% of your net worth by selling short the risk-free asset (w2 = -1). To check\n",
    "that your total risk is double SDsnp, substitute SDsnp = .10 and w1 = 2 into:"
   ]
  },
  {
   "cell_type": "code",
   "execution_count": 20,
   "metadata": {
    "collapsed": true
   },
   "outputs": [],
   "source": [
    "SDp = w1*SDsnp"
   ]
  },
  {
   "cell_type": "code",
   "execution_count": 21,
   "metadata": {
    "collapsed": false
   },
   "outputs": [
    {
     "data": {
      "text/plain": [
       "0.2"
      ]
     },
     "execution_count": 21,
     "metadata": {},
     "output_type": "execute_result"
    }
   ],
   "source": [
    "SDp"
   ]
  },
  {
   "cell_type": "code",
   "execution_count": 22,
   "metadata": {
    "collapsed": true
   },
   "outputs": [],
   "source": [
    "ERp = w1*ERsnp + w2*Rf"
   ]
  },
  {
   "cell_type": "code",
   "execution_count": 23,
   "metadata": {
    "collapsed": false
   },
   "outputs": [
    {
     "data": {
      "text/plain": [
       "0.24"
      ]
     },
     "execution_count": 23,
     "metadata": {},
     "output_type": "execute_result"
    }
   ],
   "source": [
    "ERp"
   ]
  },
  {
   "cell_type": "markdown",
   "metadata": {},
   "source": [
    "### 3. Consider the following data:\n",
    "\n",
    "|| Expected Return   | Standard Deviation  |\n",
    "|------|------|------|\n",
    "| Russell Fund | 16% | 12% |\n",
    "| Windsor Fund | 14% | 10% |\n",
    "| S and P Fund | 12% | 08% |"
   ]
  },
  {
   "cell_type": "markdown",
   "metadata": {},
   "source": [
    "### The correlation between the returns on the Russell Fund and the S&P Fund is .7. The rate on T-bills is 6%. Which of the following portfolios would you prefer to hold in combination with T-bills and why?\n",
    "\n",
    "(a) Russell Fund\n",
    "\n",
    "(b) Windsor Fund\n",
    "\n",
    "(c) S&P Fund\n",
    "\n",
    "(d) A portfolio of 60% Russell Fund and 40% S&P Fund."
   ]
  },
  {
   "cell_type": "code",
   "execution_count": 26,
   "metadata": {
    "collapsed": false
   },
   "outputs": [
    {
     "data": {
      "text/plain": [
       "array([ 0.83333333,  0.8       ,  0.75      ])"
      ]
     },
     "execution_count": 26,
     "metadata": {},
     "output_type": "execute_result"
    }
   ],
   "source": [
    "ERm = [.16, .14, .12]\n",
    "ERm = np.asarray(ERm)\n",
    "SDm = [.12, .10, .08]\n",
    "SDm = np.asarray(SDm)\n",
    "Rf = .06\n",
    "SR = (ERm - Rf)/SDm\n",
    "SR"
   ]
  },
  {
   "cell_type": "code",
   "execution_count": 30,
   "metadata": {
    "collapsed": false
   },
   "outputs": [
    {
     "data": {
      "text/plain": [
       "0.14400000000000002"
      ]
     },
     "execution_count": 30,
     "metadata": {},
     "output_type": "execute_result"
    }
   ],
   "source": [
    "wR = 0.6\n",
    "wSNP = 0.4\n",
    "ERp = wR * ERm[0] + wSNP * ERm[2]\n",
    "\n",
    "ERp"
   ]
  },
  {
   "cell_type": "code",
   "execution_count": 32,
   "metadata": {
    "collapsed": false
   },
   "outputs": [
    {
     "data": {
      "text/plain": [
       "0.0094336000000000003"
      ]
     },
     "execution_count": 32,
     "metadata": {},
     "output_type": "execute_result"
    }
   ],
   "source": [
    "C = 0.7\n",
    "Vp = wR**2*SDm[0]**2 + wSNP**2*SDm[2]**2 + 2*wR*wSNP*SDm[0]*SDm[2]*C\n",
    "Vp"
   ]
  },
  {
   "cell_type": "code",
   "execution_count": 34,
   "metadata": {
    "collapsed": false
   },
   "outputs": [
    {
     "data": {
      "text/plain": [
       "0.097126721348967604"
      ]
     },
     "execution_count": 34,
     "metadata": {},
     "output_type": "execute_result"
    }
   ],
   "source": [
    "SDp = Vp**0.5\n",
    "SDp"
   ]
  },
  {
   "cell_type": "code",
   "execution_count": 35,
   "metadata": {
    "collapsed": false
   },
   "outputs": [
    {
     "data": {
      "text/plain": [
       "0.86484953711343293"
      ]
     },
     "execution_count": 35,
     "metadata": {},
     "output_type": "execute_result"
    }
   ],
   "source": [
    "SRp = (ERp - Rf)/SDp\n",
    "SRp"
   ]
  },
  {
   "cell_type": "markdown",
   "metadata": {},
   "source": [
    "Since .8648 > .8333 > .8 > .5, the slope for the capital allocation line with the 60-40\n",
    "mutual fund combination is largest."
   ]
  },
  {
   "cell_type": "markdown",
   "metadata": {},
   "source": [
    "## Topic 5: The Capital Asset Pricing Model"
   ]
  },
  {
   "cell_type": "markdown",
   "metadata": {},
   "source": [
    "### 5. Assume the risk free rate equals Rf = 4%, and the return on the market portfolio has expectation E [RM] = 12% and standard deviation SD = 15%.\n",
    "#### (a) What is the equilibrium risk premium (that is, the excess return on the market portfolio)?"
   ]
  },
  {
   "cell_type": "markdown",
   "metadata": {},
   "source": [
    "The equilibrium risk premium is given by:\n",
    "                     \n",
    "                                         E[RM] - Rf = 12% - 4% = 8%"
   ]
  },
  {
   "cell_type": "markdown",
   "metadata": {},
   "source": [
    "#### (b) If a certain stock has a realized return of 14%, what can we say about the beta of this stock?"
   ]
  },
  {
   "cell_type": "markdown",
   "metadata": {},
   "source": [
    "Nothing. To determine the beta we need to know the expected return, which in\n",
    "general will not be equal to the realized return."
   ]
  },
  {
   "cell_type": "markdown",
   "metadata": {},
   "source": [
    "#### (c) If a certain stock has an expected return of 14%, what can we say about the beta of this stock?"
   ]
  },
  {
   "cell_type": "markdown",
   "metadata": {},
   "source": [
    "According to CAPM, The expected return is given by\n",
    "E[R] = Rf + **B**(E[RM] - Rf )"
   ]
  },
  {
   "cell_type": "code",
   "execution_count": 36,
   "metadata": {
    "collapsed": true
   },
   "outputs": [],
   "source": [
    "ER = 0.14\n",
    "Rf = 0.04\n",
    "ERm = 0.12\n",
    "B = (ER - Rf)/(ERm - Rf)"
   ]
  },
  {
   "cell_type": "code",
   "execution_count": 37,
   "metadata": {
    "collapsed": false
   },
   "outputs": [
    {
     "data": {
      "text/plain": [
       "1.2500000000000002"
      ]
     },
     "execution_count": 37,
     "metadata": {},
     "output_type": "execute_result"
    }
   ],
   "source": [
    "B"
   ]
  },
  {
   "cell_type": "markdown",
   "metadata": {},
   "source": [
    "### 6. You are given the following two equations:\n",
    "\n",
    "                                                       E(Ri) = Rf + (E(RM) - Rf )***B**                                   (1)\n",
    "                                                       E(Rp) = Rf +((E(RM) - Rf)/SDm)*SDp                                 (2)\n",
    "\n",
    "### You also have the following information: E(RM) = .15, Rf = .06, SDm = .15. Answer the following questions, assuming that the capital asset pricing model is correct:\n",
    "#### (a) Which equation would you use to determine the expected return on an individual security with a standard deviation of returns =.5 and a **B** = 2? Given the parameters above, what is the expected return for that security?"
   ]
  },
  {
   "cell_type": "markdown",
   "metadata": {
    "collapsed": true
   },
   "source": [
    "We know that the standard deviation of returns on an individual security (in this\n",
    "case equal to .5) is not relevant for determining its expected return according to\n",
    "CAPM since only systematic risk adds to total portfolio risk. Thus only the β\n",
    "(=2) matters, hence we use equation (1) known as the security market line. With\n",
    "β = 2 and using the given parameters, we have:"
   ]
  },
  {
   "cell_type": "code",
   "execution_count": 5,
   "metadata": {
    "collapsed": false
   },
   "outputs": [],
   "source": [
    "ER = (.06) + (0.15 - 0.06)*(2)"
   ]
  },
  {
   "cell_type": "code",
   "execution_count": 6,
   "metadata": {
    "collapsed": false
   },
   "outputs": [
    {
     "data": {
      "text/plain": [
       "0.24"
      ]
     },
     "execution_count": 6,
     "metadata": {},
     "output_type": "execute_result"
    }
   ],
   "source": [
    "ER"
   ]
  },
  {
   "cell_type": "markdown",
   "metadata": {},
   "source": [
    "#### (b) Which equation would you use to determine the expected return on a portfolio knowing that it is an efficient portfolio (consisting of the market portfolio M combined with the risk-free rate)? If you were told that the standard deviation of returns on that portfolio is equal to σM and you were given the above parameters, what is the expected return on that portfolio?"
   ]
  },
  {
   "cell_type": "markdown",
   "metadata": {},
   "source": [
    "We use equation (2), the capital market line, to determine the expected return on an efficient portfolio consisting of the\n",
    "market portfolio and the risk-free rate. Equation (2) says the expected return is determined by the σ of the portfolio.\n",
    "Given that σ = σM and given the parameters above, we have"
   ]
  },
  {
   "cell_type": "code",
   "execution_count": 9,
   "metadata": {
    "collapsed": false
   },
   "outputs": [],
   "source": [
    "ER = (0.06) + (0.15 - 0.06)/(0.15)*(.15)"
   ]
  },
  {
   "cell_type": "code",
   "execution_count": 10,
   "metadata": {
    "collapsed": false
   },
   "outputs": [
    {
     "data": {
      "text/plain": [
       "0.15"
      ]
     },
     "execution_count": 10,
     "metadata": {},
     "output_type": "execute_result"
    }
   ],
   "source": [
    "ER"
   ]
  },
  {
   "cell_type": "markdown",
   "metadata": {},
   "source": [
    "#### (c) Can you determine the β of the portfolio in (b)?"
   ]
  },
  {
   "cell_type": "markdown",
   "metadata": {},
   "source": [
    "Since the portfolio in (b) has σ = σM it is the market portfolio. The market\n",
    "portfolio has a β = 1, by definition. We can also use equation (1) to calculate the\n",
    "β of the portfolio:"
   ]
  },
  {
   "cell_type": "markdown",
   "metadata": {},
   "source": [
    ".15 = E(Ri) = .06 + (.15 − .06)β\n",
    "so β = 1."
   ]
  },
  {
   "cell_type": "markdown",
   "metadata": {},
   "source": [
    "#### (d) Given your answers above, expand on what type of risky assets equation (1) can be used for, and what type of risky assets equation (2) can be used for."
   ]
  },
  {
   "cell_type": "markdown",
   "metadata": {},
   "source": [
    "Equation (1), the security market line, gives the ”proper” expected return for any\n",
    "risky asset, whether it is an individual security (that is inefficient by itself) or an efficient risky portfolio. Equation (2), on the other hand, can be used only for the\n",
    "expected return on an efficient portfolio. This is clear once we recognize that if\n",
    "we used equation (2) to get the expected return on the individual security from\n",
    "(a), with a σ = .5, we would have gotten the following:"
   ]
  },
  {
   "cell_type": "code",
   "execution_count": 12,
   "metadata": {
    "collapsed": true
   },
   "outputs": [],
   "source": [
    "ER = 0.06 +(0.15 - 0.06)/(0.15)*(0.5)"
   ]
  },
  {
   "cell_type": "code",
   "execution_count": 13,
   "metadata": {
    "collapsed": false
   },
   "outputs": [
    {
     "data": {
      "text/plain": [
       "0.36"
      ]
     },
     "execution_count": 13,
     "metadata": {},
     "output_type": "execute_result"
    }
   ],
   "source": [
    "ER"
   ]
  },
  {
   "cell_type": "markdown",
   "metadata": {},
   "source": [
    "The expected return from equation (2) is much too high for the individual security. As we saw in Part A, with a β = 2 equation (1) says this security requires an expected return of ”only” 24%. Part of its total risk (σ = .5) gets diversified away and only the systematic, β-related, risk is priced by the equation (1), the security market line."
   ]
  },
  {
   "cell_type": "code",
   "execution_count": null,
   "metadata": {
    "collapsed": true
   },
   "outputs": [],
   "source": []
  }
 ],
 "metadata": {
  "anaconda-cloud": {},
  "kernelspec": {
   "display_name": "Python 3",
   "language": "python",
   "name": "python3"
  },
  "language_info": {
   "codemirror_mode": {
    "name": "ipython",
    "version": 3
   },
   "file_extension": ".py",
   "mimetype": "text/x-python",
   "name": "python",
   "nbconvert_exporter": "python",
   "pygments_lexer": "ipython3",
   "version": "3.6.0"
  }
 },
 "nbformat": 4,
 "nbformat_minor": 2
}
